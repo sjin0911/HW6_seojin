{
 "cells": [
  {
   "cell_type": "code",
   "execution_count": 45,
   "id": "ca412611",
   "metadata": {},
   "outputs": [
    {
     "data": {
      "image/png": "[encoded data removed]",
      "text/plain": [
       "<Figure size 432x288 with 1 Axes>"
      ]
     },
     "metadata": {
      "needs_background": "light"
     },
     "output_type": "display_data"
    }
   ],
   "source": [
    "import csv\n",
    "import matplotlib.pyplot as plt\n",
    "import numpy as np\n",
    "\n",
    "def main():\n",
    "    f=[]\n",
    "    data=[[],[],[],[],[]]\n",
    "    year=[2018,2019,2020,2021,2022]\n",
    "    female=[0,0,0,0,0]\n",
    "    male=[0,0,0,0,0]\n",
    "    n=np.arange(5)\n",
    "    width=0.35\n",
    "    \n",
    "    f.append(open('2018.csv','r',encoding='utf-8'))\n",
    "    f.append(open('2019.csv','r',encoding='utf-8'))\n",
    "    f.append(open('2020.csv','r',encoding='utf-8'))\n",
    "    f.append(open('2021.csv','r',encoding='utf-8'))\n",
    "    f.append(open('2022.csv','r',encoding='utf-8'))\n",
    "\n",
    "    for i in range(0,len(data)):\n",
    "        data[i]=csv.reader(f[i])\n",
    "        next(data[i])\n",
    "    i=0\n",
    "    for d in data:\n",
    "        for row in d:\n",
    "            female[i]=female[i]+float(row[-2])\n",
    "            male[i]=male[i]+float(row[-3])\n",
    "        i=i+1\n",
    "\n",
    "    plt.title('Number of male and female population in Jeju')\n",
    "    plt.bar(n-0.2,female,width,label='female')\n",
    "    plt.bar(n+0.2,male,width,label='male')\n",
    "    plt.ylabel('Population')\n",
    "    plt.xlabel('Year')\n",
    "    plt.xticks(n,year)\n",
    "    plt.legend(loc='lower left')\n",
    "    plt.show()\n",
    "\n",
    "if __name__=='__main__':\n",
    "    main()"
   ]
  },
  {
   "cell_type": "code",
   "execution_count": null,
   "id": "fe0acdcb",
   "metadata": {},
   "outputs": [],
   "source": []
  }
 ],
 "metadata": {
  "kernelspec": {
   "display_name": "Python 3 (ipykernel)",
   "language": "python",
   "name": "python3"
  },
  "language_info": {
   "codemirror_mode": {
    "name": "ipython",
    "version": 3
   },
   "file_extension": ".py",
   "mimetype": "text/x-python",
   "name": "python",
   "nbconvert_exporter": "python",
   "pygments_lexer": "ipython3",
   "version": "3.9.7"
  }
 },
 "nbformat": 4,
 "nbformat_minor": 5
}
